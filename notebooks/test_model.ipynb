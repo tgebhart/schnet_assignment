{
 "cells": [
  {
   "cell_type": "code",
   "execution_count": 1,
   "metadata": {},
   "outputs": [],
   "source": [
    "from tqdm import tqdm\n",
    "import pandas as pd\n",
    "import torch\n",
    "import numpy as np\n",
    "import matplotlib.pyplot as plt\n",
    "\n",
    "from schnet_assignment.data import load_all_data\n",
    "from schnet_assignment.models import SchNet"
   ]
  },
  {
   "cell_type": "code",
   "execution_count": 2,
   "metadata": {},
   "outputs": [],
   "source": [
    "# some training hyperparameters\n",
    "train_pct = 0.75\n",
    "num_epochs = 5\n",
    "batch_size = 5"
   ]
  },
  {
   "cell_type": "code",
   "execution_count": 3,
   "metadata": {},
   "outputs": [
    {
     "name": "stdout",
     "output_type": "stream",
     "text": [
      "loading proteins...\n",
      "loading labels...\n",
      "loading esm embeddings...\n"
     ]
    },
    {
     "name": "stderr",
     "output_type": "stream",
     "text": [
      "esm_embeddings: 100%|██████████| 42/42 [02:55<00:00,  4.18s/it]"
     ]
    },
    {
     "name": "stdout",
     "output_type": "stream",
     "text": [
      "done.\n"
     ]
    },
    {
     "name": "stderr",
     "output_type": "stream",
     "text": [
      "\n"
     ]
    },
    {
     "data": {
      "text/html": [
       "<div>\n",
       "<style scoped>\n",
       "    .dataframe tbody tr th:only-of-type {\n",
       "        vertical-align: middle;\n",
       "    }\n",
       "\n",
       "    .dataframe tbody tr th {\n",
       "        vertical-align: top;\n",
       "    }\n",
       "\n",
       "    .dataframe thead th {\n",
       "        text-align: right;\n",
       "    }\n",
       "</style>\n",
       "<table border=\"1\" class=\"dataframe\">\n",
       "  <thead>\n",
       "    <tr style=\"text-align: right;\">\n",
       "      <th></th>\n",
       "      <th>protein_name</th>\n",
       "      <th>coords</th>\n",
       "      <th>sequence</th>\n",
       "      <th>num_atoms</th>\n",
       "      <th>value</th>\n",
       "    </tr>\n",
       "  </thead>\n",
       "  <tbody>\n",
       "    <tr>\n",
       "      <th>0</th>\n",
       "      <td>1a0g_1_protein</td>\n",
       "      <td>[[62.54, 19.333, 31.113], [60.403, 22.375, 31....</td>\n",
       "      <td>GYTLWNDQIVKDEEVKIDKEDRGYQFGDGVYEVVKVYNGEMFTVNE...</td>\n",
       "      <td>562</td>\n",
       "      <td>107.810</td>\n",
       "    </tr>\n",
       "    <tr>\n",
       "      <th>1</th>\n",
       "      <td>1a4m_1_protein</td>\n",
       "      <td>[[15.593, 32.439, 59.158], [19.13, 32.724, 57....</td>\n",
       "      <td>TPAFNKPKVELHVHLDGAIKPETILYFGKKRGIALPADTVEELRNI...</td>\n",
       "      <td>349</td>\n",
       "      <td>66.524</td>\n",
       "    </tr>\n",
       "    <tr>\n",
       "      <th>2</th>\n",
       "      <td>1a4r_1_protein</td>\n",
       "      <td>[[64.709, 42.32, -10.655], [66.368, 41.699, -7...</td>\n",
       "      <td>MQTIKCVVVGDVAVGKTCLLISYTTNKFPSEYVPTVFDNYAVTVMI...</td>\n",
       "      <td>380</td>\n",
       "      <td>70.929</td>\n",
       "    </tr>\n",
       "    <tr>\n",
       "      <th>3</th>\n",
       "      <td>1a3k_1_protein</td>\n",
       "      <td>[[21.973, -3.321, -6.727], [21.115, -5.91, -4....</td>\n",
       "      <td>LIVPYNLPLPGGVVPRMLITILGTVKPNANRIALDFQRGNDVAFHF...</td>\n",
       "      <td>137</td>\n",
       "      <td>26.262</td>\n",
       "    </tr>\n",
       "    <tr>\n",
       "      <th>4</th>\n",
       "      <td>1a0t_1_protein</td>\n",
       "      <td>[[-45.764, 1.22, 8.776], [-43.638, 1.985, 5.71...</td>\n",
       "      <td>SGFEFHGYARSGVIMNDSGASTKSGAYITPAGETGGAIGRLGNQAD...</td>\n",
       "      <td>1239</td>\n",
       "      <td>228.810</td>\n",
       "    </tr>\n",
       "  </tbody>\n",
       "</table>\n",
       "</div>"
      ],
      "text/plain": [
       "     protein_name                                             coords  \\\n",
       "0  1a0g_1_protein  [[62.54, 19.333, 31.113], [60.403, 22.375, 31....   \n",
       "1  1a4m_1_protein  [[15.593, 32.439, 59.158], [19.13, 32.724, 57....   \n",
       "2  1a4r_1_protein  [[64.709, 42.32, -10.655], [66.368, 41.699, -7...   \n",
       "3  1a3k_1_protein  [[21.973, -3.321, -6.727], [21.115, -5.91, -4....   \n",
       "4  1a0t_1_protein  [[-45.764, 1.22, 8.776], [-43.638, 1.985, 5.71...   \n",
       "\n",
       "                                            sequence  num_atoms    value  \n",
       "0  GYTLWNDQIVKDEEVKIDKEDRGYQFGDGVYEVVKVYNGEMFTVNE...        562  107.810  \n",
       "1  TPAFNKPKVELHVHLDGAIKPETILYFGKKRGIALPADTVEELRNI...        349   66.524  \n",
       "2  MQTIKCVVVGDVAVGKTCLLISYTTNKFPSEYVPTVFDNYAVTVMI...        380   70.929  \n",
       "3  LIVPYNLPLPGGVVPRMLITILGTVKPNANRIALDFQRGNDVAFHF...        137   26.262  \n",
       "4  SGFEFHGYARSGVIMNDSGASTKSGAYITPAGETGGAIGRLGNQAD...       1239  228.810  "
      ]
     },
     "execution_count": 3,
     "metadata": {},
     "output_type": "execute_result"
    }
   ],
   "source": [
    "all_data, embeddings = load_all_data()\n",
    "all_data.head()"
   ]
  },
  {
   "cell_type": "code",
   "execution_count": 4,
   "metadata": {},
   "outputs": [],
   "source": [
    "# create train and test splits (for fun)\n",
    "all_idxs = np.arange(all_data.shape[0])\n",
    "train_idxs = np.random.choice(all_idxs, size=int(all_idxs.shape[0]*train_pct), replace=False)\n",
    "test_idxs = all_idxs[~train_idxs]\n",
    "\n",
    "train_data = all_data.iloc[train_idxs]\n",
    "train_embeddings = [embeddings[e] for e in train_idxs]\n",
    " \n",
    "test_data = all_data.iloc[test_idxs]\n",
    "test_embeddings = [embeddings[e] for e in test_idxs]"
   ]
  },
  {
   "cell_type": "code",
   "execution_count": 5,
   "metadata": {},
   "outputs": [],
   "source": [
    "# load model\n",
    "model = SchNet(hidden_channels=train_embeddings[0].shape[1],num_interactions=3)"
   ]
  },
  {
   "cell_type": "code",
   "execution_count": 19,
   "metadata": {},
   "outputs": [
    {
     "name": "stderr",
     "output_type": "stream",
     "text": [
      "training epochs:   0%|          | 0/5 [00:00<?, ?it/s]"
     ]
    },
    {
     "name": "stderr",
     "output_type": "stream",
     "text": [
      "training epochs: 100%|██████████| 5/5 [00:46<00:00,  9.38s/it]\n"
     ]
    }
   ],
   "source": [
    "def prepare_batch_data(batch_data):\n",
    "    coords = torch.FloatTensor(np.concatenate(batch_data['coords'].values))\n",
    "    labels = torch.FloatTensor(batch_data['value'].values).unsqueeze(1)\n",
    "    atom_counts = batch_data['num_atoms'].tolist()\n",
    "    # batch indices are constant w.r.t. the number of atoms\n",
    "    # per protein in each batch\n",
    "    batch_indices = torch.zeros(coords.shape[0], dtype=torch.int64)\n",
    "    \n",
    "    for a in range(0,len(atom_counts)-1):\n",
    "        asum = sum(atom_counts[:a])\n",
    "        batch_indices[asum:asum+atom_counts[a+1]] = a+1\n",
    "\n",
    "    return coords, labels, batch_indices\n",
    "\n",
    "\n",
    "optimizer = torch.optim.Adam(model.parameters())\n",
    "loss_fun = torch.nn.MSELoss()\n",
    "training_losses = []\n",
    "eval_losses = []\n",
    "\n",
    "for epoch in tqdm(range(num_epochs), desc='training epochs'):\n",
    "    # train\n",
    "    for bix in range(0,train_data.shape[0],batch_size):\n",
    "        optimizer.zero_grad()\n",
    "\n",
    "        batch_data = train_data.iloc[bix:bix+batch_size]\n",
    "        coords, labels, batch_indices = prepare_batch_data(batch_data)\n",
    "        embs = torch.concatenate([train_embeddings[b] for b in range(bix,min(len(train_embeddings),bix+batch_size))])\n",
    "        \n",
    "        preds = model(embs, coords, batch=batch_indices)\n",
    "        loss = loss_fun(preds, labels)\n",
    "        \n",
    "        loss.backward()\n",
    "        optimizer.step()\n",
    "\n",
    "        training_losses.append({'epoch':epoch, 'batch':bix, 'loss':loss.detach().numpy()})\n",
    "\n",
    "\n",
    "    # evaluate\n",
    "    for bix in range(0,test_data.shape[0],batch_size):\n",
    "\n",
    "        with torch.no_grad():\n",
    "            batch_data = test_data.iloc[bix:bix+batch_size]\n",
    "            embs = embs = torch.concatenate([test_embeddings[b] for b in range(bix,min(len(test_embeddings),bix+batch_size))])\n",
    "            coords, labels, batch_indices = prepare_batch_data(batch_data)\n",
    "            \n",
    "            preds = model(embs, coords, batch=batch_indices)\n",
    "            loss = loss_fun(preds, labels)\n",
    "\n",
    "            eval_losses.append({'epoch':epoch, 'batch':bix, 'loss':loss.detach().numpy()})\n",
    "    "
   ]
  },
  {
   "cell_type": "code",
   "execution_count": 30,
   "metadata": {},
   "outputs": [
    {
     "data": {
      "text/html": [
       "<div>\n",
       "<style scoped>\n",
       "    .dataframe tbody tr th:only-of-type {\n",
       "        vertical-align: middle;\n",
       "    }\n",
       "\n",
       "    .dataframe tbody tr th {\n",
       "        vertical-align: top;\n",
       "    }\n",
       "\n",
       "    .dataframe thead th {\n",
       "        text-align: right;\n",
       "    }\n",
       "</style>\n",
       "<table border=\"1\" class=\"dataframe\">\n",
       "  <thead>\n",
       "    <tr style=\"text-align: right;\">\n",
       "      <th></th>\n",
       "      <th>epoch</th>\n",
       "      <th>loss</th>\n",
       "      <th>iteration</th>\n",
       "    </tr>\n",
       "  </thead>\n",
       "  <tbody>\n",
       "    <tr>\n",
       "      <th>0</th>\n",
       "      <td>0</td>\n",
       "      <td>9867.602679</td>\n",
       "      <td>30</td>\n",
       "    </tr>\n",
       "    <tr>\n",
       "      <th>1</th>\n",
       "      <td>1</td>\n",
       "      <td>5124.229911</td>\n",
       "      <td>60</td>\n",
       "    </tr>\n",
       "    <tr>\n",
       "      <th>2</th>\n",
       "      <td>2</td>\n",
       "      <td>5822.686942</td>\n",
       "      <td>90</td>\n",
       "    </tr>\n",
       "    <tr>\n",
       "      <th>3</th>\n",
       "      <td>3</td>\n",
       "      <td>3974.623326</td>\n",
       "      <td>120</td>\n",
       "    </tr>\n",
       "    <tr>\n",
       "      <th>4</th>\n",
       "      <td>4</td>\n",
       "      <td>2449.237723</td>\n",
       "      <td>150</td>\n",
       "    </tr>\n",
       "  </tbody>\n",
       "</table>\n",
       "</div>"
      ],
      "text/plain": [
       "   epoch         loss  iteration\n",
       "0      0  9867.602679         30\n",
       "1      1  5124.229911         60\n",
       "2      2  5822.686942         90\n",
       "3      3  3974.623326        120\n",
       "4      4  2449.237723        150"
      ]
     },
     "execution_count": 30,
     "metadata": {},
     "output_type": "execute_result"
    }
   ],
   "source": [
    "# make reporting nice for a plot\n",
    "# `iteration` here is batch x epoch\n",
    "train_info = pd.DataFrame(training_losses)\n",
    "train_info['iteration'] = train_info['epoch']*train_info['batch'].max() + train_info['batch']\n",
    "\n",
    "eval_info = pd.DataFrame(eval_losses)\n",
    "max_eval_batch = train_info['batch'].max()\n",
    "eval_info = eval_info.drop(columns='batch').groupby('epoch').mean().reset_index()\n",
    "eval_info['iteration'] = (1+eval_info['epoch'])*max_eval_batch\n",
    "eval_info"
   ]
  },
  {
   "cell_type": "code",
   "execution_count": 35,
   "metadata": {},
   "outputs": [
    {
     "data": {
      "image/png": "[encoded data removed]",
      "text/plain": [
       "<Figure size 640x480 with 2 Axes>"
      ]
     },
     "metadata": {},
     "output_type": "display_data"
    }
   ],
   "source": [
    "# plot losses.\n",
    "# we could probably re-scale the training and test losses\n",
    "# by accounting for difference in number of batches.\n",
    "# this would avoid using two axes, but this is quicker\n",
    "fig, ax1 = plt.subplots()\n",
    "\n",
    "train_color = 'b'\n",
    "ax1.set_xlabel('training iteration')\n",
    "ax1.set_ylabel('training loss', color=train_color)\n",
    "ax1.plot(train_info['iteration'], train_info['loss'], label='training loss', color=train_color)\n",
    "ax1.tick_params(axis='y', labelcolor=train_color)\n",
    "ax1.legend(loc='upper left')\n",
    "ax2 = ax1.twinx()\n",
    "\n",
    "test_color = 'r'\n",
    "ax2.set_ylabel('test loss', color=test_color)\n",
    "ax2.plot(eval_info['iteration'], eval_info['loss'], label='test loss', color=test_color)\n",
    "ax2.tick_params(axis='y', labelcolor=test_color)\n",
    "\n",
    "fig.tight_layout()\n",
    "ax2.legend(loc='upper right')\n",
    "plt.show()"
   ]
  }
 ],
 "metadata": {
  "kernelspec": {
   "display_name": "schnet_assignment",
   "language": "python",
   "name": "python3"
  },
  "language_info": {
   "codemirror_mode": {
    "name": "ipython",
    "version": 3
   },
   "file_extension": ".py",
   "mimetype": "text/x-python",
   "name": "python",
   "nbconvert_exporter": "python",
   "pygments_lexer": "ipython3",
   "version": "3.10.12"
  },
  "orig_nbformat": 4
 },
 "nbformat": 4,
 "nbformat_minor": 2
}
